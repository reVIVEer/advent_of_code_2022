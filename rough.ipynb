{
 "cells": [
  {
   "cell_type": "markdown",
   "metadata": {},
   "source": [
    "### WIP DAY 12"
   ]
  },
  {
   "cell_type": "code",
   "execution_count": null,
   "metadata": {},
   "outputs": [],
   "source": [
    "with open(\"day_12/test.txt\") as f:\n",
    "    inp = f.readlines()\n",
    "\n",
    "inp = [line.rstrip(\"\\n\") for line in inp]\n",
    "grid = [[*line] for line in inp]"
   ]
  },
  {
   "cell_type": "code",
   "execution_count": null,
   "metadata": {},
   "outputs": [],
   "source": [
    "def get_start_and_destination_coords(grid):\n",
    "    for line in grid:\n",
    "        if 'S' in line:\n",
    "            start = (grid.index(line), line.index('S'))\n",
    "        if 'E' in line:\n",
    "            dest = (grid.index(line), line.index('E'))\n",
    "    \n",
    "    return start, dest"
   ]
  },
  {
   "cell_type": "code",
   "execution_count": null,
   "metadata": {},
   "outputs": [],
   "source": [
    "start_coords, dest_coords = get_start_and_destination_coords(grid)"
   ]
  },
  {
   "cell_type": "code",
   "execution_count": null,
   "metadata": {},
   "outputs": [],
   "source": [
    "while start_coords != dest_coords:\n",
    "    # TODO\n",
    "    # get items in all 4 directions from current position\n",
    "    # check if you can move towards them or not\n",
    "    # then run the simulation of movement\n",
    "    # run all the possible simulations paths and get the shortest path "
   ]
  }
 ],
 "metadata": {
  "kernelspec": {
   "display_name": "ad_of_co",
   "language": "python",
   "name": "python3"
  },
  "language_info": {
   "codemirror_mode": {
    "name": "ipython",
    "version": 3
   },
   "file_extension": ".py",
   "mimetype": "text/x-python",
   "name": "python",
   "nbconvert_exporter": "python",
   "pygments_lexer": "ipython3",
   "version": "3.11.3"
  },
  "orig_nbformat": 4
 },
 "nbformat": 4,
 "nbformat_minor": 2
}
